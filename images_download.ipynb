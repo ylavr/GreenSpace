{
 "cells": [
  {
   "cell_type": "code",
   "execution_count": 2,
   "metadata": {},
   "outputs": [],
   "source": [
    "from bing_image_downloader import downloader\n",
    "import os"
   ]
  },
  {
   "cell_type": "code",
   "execution_count": null,
   "metadata": {},
   "outputs": [],
   "source": [
    "# List of species\n",
    "species_list = ['African_Violet_Saintpaulia_ionantha', 'Aloe_Vera', 'Anthurium_Anthurium_andraeanum', \n",
    "                'Areca_Palm_Dypsis_lutescens', 'Asparagus_Fern_Asparagus_setaceus', 'Begonia_Begonia_spp', \n",
    "                'Birds_Nest_Fern_Asplenium_nidus', 'Bird_of_Paradise_Strelitzia_reginae', 'Boston_Fern_Nephrolepis_exaltata', \n",
    "                'Calathea', 'Cast_Iron_Plant_Aspidistra_elatior', 'Chinese_evergreen_Aglaonema', 'Chinese_Money_Plant_Pilea_peperomioides',\n",
    "                  'Christmas_Cactus_Schlumbergera_bridgesii', 'Chrysanthemum', 'Ctenanthe', 'Daffodils_Narcissus_spp', 'Dracaena', \n",
    "                  'Dumb_Cane_Dieffenbachia_spp', 'Elephant_Ear_Alocasia_spp', 'English_Ivy_Hedera_helix', 'Hyacinth_Hyacinthus_orientalis', \n",
    "                  'Iron_Cross_begonia_Begonia_masoniana', 'Jade_plant_Crassula_ovata', 'Kalanchoe', 'Lilium_Hemerocallis', \n",
    "                  'Lily_of_the_valley_Convallaria_majalis', 'Money_Tree_Pachira_aquatica', 'Monstera_Deliciosa_Monstera_deliciosa', \n",
    "                  'Orchid', 'Parlor_Palm_Chamaedorea_elegans', 'Peace_lily', 'Poinsettia_Euphorbia_pulcherrima', 'Polka_Dot_Plant_Hypoestes_phyllostachya', \n",
    "                  'Ponytail_Palm_Beaucarnea_recurvata', 'Pothos_Ivy_arum', 'Prayer_Plant_Maranta_leuconeura', 'Rattlesnake_Plant_Calathea_lancifolia', \n",
    "                  'Rubber_Plant_Ficus_elastica', 'Sago_Palm_Cycas_revoluta', 'Schefflera', 'Snake_plant_Sanseviera', 'Tradescantia', 'Tulip', \n",
    "                  'Venus_Flytrap', 'Yucca', 'ZZ_Plant_Zamioculcas_zamiifolia'\n",
    "]"
   ]
  },
  {
   "cell_type": "code",
   "execution_count": null,
   "metadata": {},
   "outputs": [],
   "source": [
    "for species in species_list:\n",
    "    species_folder = os.path.join(base_dir, species)\n",
    "    if not os.path.exists(species_folder):\n",
    "        downloader.download(species, limit=500, output_dir=base_dir, adult_filter_off=True, force_replace=False, timeout=60)\n",
    "        print(f\"Downloaded images for {species}\")\n",
    "    else:\n",
    "        print(f\"Images for {species} already exist in {species_folder}\")"
   ]
  }
 ],
 "metadata": {
  "kernelspec": {
   "display_name": "venv",
   "language": "python",
   "name": "python3"
  },
  "language_info": {
   "codemirror_mode": {
    "name": "ipython",
    "version": 3
   },
   "file_extension": ".py",
   "mimetype": "text/x-python",
   "name": "python",
   "nbconvert_exporter": "python",
   "pygments_lexer": "ipython3",
   "version": "3.10.11"
  }
 },
 "nbformat": 4,
 "nbformat_minor": 2
}
